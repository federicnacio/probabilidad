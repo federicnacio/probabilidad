{
  "nbformat": 4,
  "nbformat_minor": 0,
  "metadata": {
    "colab": {
      "provenance": [],
      "authorship_tag": "ABX9TyPnenIVM08vpIg4W99r60nB",
      "include_colab_link": true
    },
    "kernelspec": {
      "name": "python3",
      "display_name": "Python 3"
    },
    "language_info": {
      "name": "python"
    }
  },
  "cells": [
    {
      "cell_type": "markdown",
      "metadata": {
        "id": "view-in-github",
        "colab_type": "text"
      },
      "source": [
        "<a href=\"https://colab.research.google.com/github/federicnacio/probabilidad/blob/main/Unidad1/ejercicio2.ipynb\" target=\"_parent\"><img src=\"https://colab.research.google.com/assets/colab-badge.svg\" alt=\"Open In Colab\"/></a>"
      ]
    },
    {
      "cell_type": "code",
      "execution_count": null,
      "metadata": {
        "id": "RiRsJU_Sau0v"
      },
      "outputs": [],
      "source": [
        "from statistics import *\n",
        "tiempos100mts=[15.10,17.20,14.69,13.23,22.15,18.71,19.15,20.65,15.1,17.2]"
      ]
    },
    {
      "cell_type": "code",
      "source": [
        "print(\"tiempo promedio de los alumnos es:\",mean(tiempos100mts))"
      ],
      "metadata": {
        "colab": {
          "base_uri": "https://localhost:8080/"
        },
        "id": "sf044dVMdC8Y",
        "outputId": "528867c8-a503-4c19-a97e-110cb8c1710d"
      },
      "execution_count": null,
      "outputs": [
        {
          "output_type": "stream",
          "name": "stdout",
          "text": [
            "tiempo promedio de los alumnos es: 17.317999999999998\n"
          ]
        }
      ]
    },
    {
      "cell_type": "code",
      "source": [
        "mediana=median(tiempos100mts)\n",
        "print(\"la mediana en tiempos es:\",mediana)"
      ],
      "metadata": {
        "colab": {
          "base_uri": "https://localhost:8080/"
        },
        "id": "Aq9f-ZereHwy",
        "outputId": "790d8e93-3c1f-4004-869a-d76a27506569"
      },
      "execution_count": null,
      "outputs": [
        {
          "output_type": "stream",
          "name": "stdout",
          "text": [
            "la mediana en tiempos es: 17.2\n"
          ]
        }
      ]
    },
    {
      "cell_type": "code",
      "source": [
        "moda=mode(tiempos100mts)\n",
        "print(\"la moda en tiempos es:\",moda)"
      ],
      "metadata": {
        "colab": {
          "base_uri": "https://localhost:8080/"
        },
        "id": "z3BKS2Hsgzk3",
        "outputId": "b59d016b-dd0d-4e17-f52a-85d28be41e3e"
      },
      "execution_count": null,
      "outputs": [
        {
          "output_type": "stream",
          "name": "stdout",
          "text": [
            "la moda en tiempos es: 15.1\n"
          ]
        }
      ]
    },
    {
      "cell_type": "code",
      "source": [
        "multimodas=multimode(tiempos100mts)\n",
        "print(\"las modas en tiempo son:\",multimodas)"
      ],
      "metadata": {
        "colab": {
          "base_uri": "https://localhost:8080/"
        },
        "id": "8Y8o3vFFhAKr",
        "outputId": "6fa07308-55ee-40ff-f8f4-7492ef505f3e"
      },
      "execution_count": null,
      "outputs": [
        {
          "output_type": "stream",
          "name": "stdout",
          "text": [
            "las modas en tiempo son: [15.1, 17.2]\n"
          ]
        }
      ]
    }
  ]
}