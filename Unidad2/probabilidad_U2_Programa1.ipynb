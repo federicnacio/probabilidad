{
  "nbformat": 4,
  "nbformat_minor": 0,
  "metadata": {
    "colab": {
      "provenance": [],
      "authorship_tag": "ABX9TyPZ0lizrcY/OOhjSqfq9LyI",
      "include_colab_link": true
    },
    "kernelspec": {
      "name": "python3",
      "display_name": "Python 3"
    },
    "language_info": {
      "name": "python"
    }
  },
  "cells": [
    {
      "cell_type": "markdown",
      "metadata": {
        "id": "view-in-github",
        "colab_type": "text"
      },
      "source": [
        "<a href=\"https://colab.research.google.com/github/federicnacio/probabilidad/blob/main/Unidad2/probabilidad_U2_Programa1.ipynb\" target=\"_parent\"><img src=\"https://colab.research.google.com/assets/colab-badge.svg\" alt=\"Open In Colab\"/></a>"
      ]
    },
    {
      "cell_type": "code",
      "execution_count": 2,
      "metadata": {
        "id": "i7tewcak8gLS"
      },
      "outputs": [],
      "source": [
        "import math as mt\n",
        "from itertools import combinations\n",
        "from itertools import combinations_with_replacement\n",
        "import numpy as np"
      ]
    },
    {
      "cell_type": "code",
      "source": [
        "nombres = [\"Oscar\", \"Paco\", \"Paty\", \"Laura\", \"Rubén\", \"Luis\", \"Lucy\", \"Alberto\", \"Juan\", \"Danny\"]\n",
        "n = len(nombres)\n",
        "r = 2\n",
        "\n",
        "Cn = mt.factorial(n) / (mt.factorial(r)*mt.factorial(n-r))\n",
        "\n",
        "print(\"Existen\", Cn, \"posibles combinaciones sin repeticiones \", n , \" nombres \", \"en grupos de: \", r , \" en \", r)\n",
        "\n",
        "print(\"Aqui las combinaciones: \")\n",
        "combinaciones_nombres = list(combinations(nombres, r))\n",
        "\n",
        "for combinacion in combinaciones_nombres:\n",
        "  print(combinacion)"
      ],
      "metadata": {
        "colab": {
          "base_uri": "https://localhost:8080/"
        },
        "id": "MSz4o0m291bA",
        "outputId": "766d3b32-7466-46b5-ffcd-8517889cb64c"
      },
      "execution_count": 4,
      "outputs": [
        {
          "output_type": "stream",
          "name": "stdout",
          "text": [
            "Existen 45.0 posibles combinaciones sin repeticiones  10  nombres  en grupos de:  2  en  2\n",
            "Aqui las combinaciones: \n",
            "('Oscar', 'Paco')\n",
            "('Oscar', 'Paty')\n",
            "('Oscar', 'Laura')\n",
            "('Oscar', 'Rubén')\n",
            "('Oscar', 'Luis')\n",
            "('Oscar', 'Lucy')\n",
            "('Oscar', 'Alberto')\n",
            "('Oscar', 'Juan')\n",
            "('Oscar', 'Danny')\n",
            "('Paco', 'Paty')\n",
            "('Paco', 'Laura')\n",
            "('Paco', 'Rubén')\n",
            "('Paco', 'Luis')\n",
            "('Paco', 'Lucy')\n",
            "('Paco', 'Alberto')\n",
            "('Paco', 'Juan')\n",
            "('Paco', 'Danny')\n",
            "('Paty', 'Laura')\n",
            "('Paty', 'Rubén')\n",
            "('Paty', 'Luis')\n",
            "('Paty', 'Lucy')\n",
            "('Paty', 'Alberto')\n",
            "('Paty', 'Juan')\n",
            "('Paty', 'Danny')\n",
            "('Laura', 'Rubén')\n",
            "('Laura', 'Luis')\n",
            "('Laura', 'Lucy')\n",
            "('Laura', 'Alberto')\n",
            "('Laura', 'Juan')\n",
            "('Laura', 'Danny')\n",
            "('Rubén', 'Luis')\n",
            "('Rubén', 'Lucy')\n",
            "('Rubén', 'Alberto')\n",
            "('Rubén', 'Juan')\n",
            "('Rubén', 'Danny')\n",
            "('Luis', 'Lucy')\n",
            "('Luis', 'Alberto')\n",
            "('Luis', 'Juan')\n",
            "('Luis', 'Danny')\n",
            "('Lucy', 'Alberto')\n",
            "('Lucy', 'Juan')\n",
            "('Lucy', 'Danny')\n",
            "('Alberto', 'Juan')\n",
            "('Alberto', 'Danny')\n",
            "('Juan', 'Danny')\n"
          ]
        }
      ]
    }
  ]
}