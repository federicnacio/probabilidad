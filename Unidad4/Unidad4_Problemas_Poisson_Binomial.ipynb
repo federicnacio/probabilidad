{
  "nbformat": 4,
  "nbformat_minor": 0,
  "metadata": {
    "colab": {
      "provenance": [],
      "authorship_tag": "ABX9TyPu3F15C0KEl7XOxYLyoCWM",
      "include_colab_link": true
    },
    "kernelspec": {
      "name": "python3",
      "display_name": "Python 3"
    },
    "language_info": {
      "name": "python"
    }
  },
  "cells": [
    {
      "cell_type": "markdown",
      "metadata": {
        "id": "view-in-github",
        "colab_type": "text"
      },
      "source": [
        "<a href=\"https://colab.research.google.com/github/federicnacio/probabilidad/blob/main/Unidad4/Unidad4_Problemas_Poisson_Binomial.ipynb\" target=\"_parent\"><img src=\"https://colab.research.google.com/assets/colab-badge.svg\" alt=\"Open In Colab\"/></a>"
      ]
    },
    {
      "cell_type": "markdown",
      "source": [
        "Problema 1\n",
        "\n",
        "el problema es de tipo poisson porque los eventos ocurren de forma aleatoria e independiente, el promedio de de personas por día es la constante y se quiere saber el número de ocurrencias en un intervalo especifico."
      ],
      "metadata": {
        "id": "DBatE8pj35it"
      }
    },
    {
      "cell_type": "code",
      "execution_count": 10,
      "metadata": {
        "id": "BWAN4L8rgiuK"
      },
      "outputs": [],
      "source": [
        "from scipy.stats import poisson\n",
        "import math\n",
        "media = 5"
      ]
    },
    {
      "cell_type": "code",
      "source": [
        "prob_x_2=poisson.pmf(2, mu=media)\n",
        "print(f\" a) la probabilidad de que haya exactamente 2 ingresos es : {prob_x_2: .4f}\")\n"
      ],
      "metadata": {
        "colab": {
          "base_uri": "https://localhost:8080/"
        },
        "id": "MWD_a7k52DQ_",
        "outputId": "8a6c2438-b0c9-4c77-a6e9-79d07f5b9877"
      },
      "execution_count": 2,
      "outputs": [
        {
          "output_type": "stream",
          "name": "stdout",
          "text": [
            " a) la probabilidad de que haya exactamente 2 ingresos es :  0.0842\n"
          ]
        }
      ]
    },
    {
      "cell_type": "code",
      "source": [
        "prob_x_may_10=poisson.cdf(10, mu=media)\n",
        "print(f\"b) la probabilidad de que haya mas de 10 ingresos es : {prob_x_may_10: .4f}\")\n"
      ],
      "metadata": {
        "colab": {
          "base_uri": "https://localhost:8080/"
        },
        "id": "FsS8ckSA3B1p",
        "outputId": "b9afe3ab-d3d0-4ca0-d167-90c705738cea"
      },
      "execution_count": 3,
      "outputs": [
        {
          "output_type": "stream",
          "name": "stdout",
          "text": [
            "b) la probabilidad de que haya mas de 10 ingresos es :  0.9863\n"
          ]
        }
      ]
    },
    {
      "cell_type": "code",
      "source": [
        "if prob_x_may_10 > 0.05:\n",
        "  print(\"es bastante probable que haya mas de 10 ingresos\")\n",
        "else:\n",
        "  print(\"no es probable que haya mas de 10 ingresos\")\n",
        ""
      ],
      "metadata": {
        "colab": {
          "base_uri": "https://localhost:8080/"
        },
        "id": "tGGnzRN3504y",
        "outputId": "2f96ef9f-070e-4be7-d517-6bd54e099977"
      },
      "execution_count": 9,
      "outputs": [
        {
          "output_type": "stream",
          "name": "stdout",
          "text": [
            "es bastante probable que haya mas de 10 ingresos\n"
          ]
        }
      ]
    },
    {
      "cell_type": "markdown",
      "source": [
        "Problema 2\n",
        "\n",
        "este problema es de tipo poisson porque n (numero de motores) es grande y p (la provavilidad de falla) es muy pequeño y como en la anterior np se mantiene constante."
      ],
      "metadata": {
        "id": "TwCruEhl5sv5"
      }
    },
    {
      "cell_type": "code",
      "source": [
        "Lambda= 1000 * 0.001"
      ],
      "metadata": {
        "id": "bkEuLIHF5sTz"
      },
      "execution_count": 15,
      "outputs": []
    },
    {
      "cell_type": "code",
      "source": [
        "def poisson_prob(k, Lambda):\n",
        "  return(math.exp(-Lambda) * Lambda**k) / math.factorial(k)\n",
        "\n"
      ],
      "metadata": {
        "id": "OJSQXj4c7a1a"
      },
      "execution_count": 16,
      "outputs": []
    },
    {
      "cell_type": "code",
      "source": [
        "prob_0 = poisson_prob(0, Lambda)\n",
        "prob_3 = poisson_prob(3, Lambda)\n",
        "prob_4 = poisson_prob(4, Lambda)\n"
      ],
      "metadata": {
        "id": "624SXTzH8pa_"
      },
      "execution_count": 17,
      "outputs": []
    },
    {
      "cell_type": "code",
      "source": [
        "print(f\"probabilidad de que ningún motor sea defectuoso: {prob_0: .6f}\")\n",
        "print(f\"probabilidad de que tres motores sean defectuosos: {prob_3: .6f}\")\n",
        "print(f\"probabilidad de que cuatro motores sean defectuosos: {prob_4: .6f}\")\n"
      ],
      "metadata": {
        "colab": {
          "base_uri": "https://localhost:8080/"
        },
        "id": "KlfEZ0P59Wb8",
        "outputId": "a8fbaeb2-e9f7-4d18-a414-698ba8550909"
      },
      "execution_count": 18,
      "outputs": [
        {
          "output_type": "stream",
          "name": "stdout",
          "text": [
            "probabilidad de que ningún motor sea defectuoso:  0.367879\n",
            "probabilidad de que tres motores sean defectuosos:  0.061313\n",
            "probabilidad de que cuatro motores sean defectuosos:  0.015328\n"
          ]
        }
      ]
    }
  ]
}